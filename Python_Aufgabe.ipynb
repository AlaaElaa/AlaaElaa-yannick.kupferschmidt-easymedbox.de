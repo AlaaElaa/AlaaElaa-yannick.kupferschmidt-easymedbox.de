{
 "cells": [
  {
   "cell_type": "code",
   "execution_count": 17,
   "metadata": {},
   "outputs": [
    {
     "name": "stdout",
     "output_type": "stream",
     "text": [
      "Das erste Datum wurde erreicht! (20.05.2022 - 15:00)\n"
     ]
    }
   ],
   "source": [
    "# Datumeingabe:\n",
    "\n",
    "Tag =   '20'\n",
    "Monat = '05'\n",
    "Jahr = '2022'\n",
    "\n",
    "#Zeiteingabe:\n",
    "\n",
    "Uhr = '15'\n",
    "Min =  '00'\n",
    "\n",
    "\n",
    "print(f\"Das erste Datum wurde erreicht! ({Tag}.{Monat}.{Jahr} - {Uhr}:{Min})\" )\n",
    "\n",
    "\n"
   ]
  },
  {
   "cell_type": "code",
   "execution_count": 16,
   "metadata": {},
   "outputs": [
    {
     "name": "stdout",
     "output_type": "stream",
     "text": [
      "Das zweite Datum wurde erreicht! (21.05.2022 - 12:00)\n"
     ]
    }
   ],
   "source": [
    "# Datumeingabe:\n",
    "\n",
    "Tag =   '21'\n",
    "Monat = '05'\n",
    "Jahr = '2022'\n",
    "\n",
    "#Zeiteingabe:\n",
    "\n",
    "Uhr = '12'\n",
    "Min =  '00'\n",
    "\n",
    "\n",
    "print(f\"Das zweite Datum wurde erreicht! ({Tag}.{Monat}.{Jahr} - {Uhr}:{Min})\" )"
   ]
  },
  {
   "cell_type": "code",
   "execution_count": 18,
   "metadata": {},
   "outputs": [
    {
     "name": "stdout",
     "output_type": "stream",
     "text": [
      "Das dritte Datum wurde erreicht! (22.05.2022 - 07:00)\n"
     ]
    }
   ],
   "source": [
    "# Datumeingabe:\n",
    "\n",
    "Tag =   '22'\n",
    "Monat = '05'\n",
    "Jahr = '2022'\n",
    "\n",
    "#Zeiteingabe:\n",
    "\n",
    "Uhr = '07'\n",
    "Min =  '00'\n",
    "\n",
    "\n",
    "print(f\"Das dritte Datum wurde erreicht! ({Tag}.{Monat}.{Jahr} - {Uhr}:{Min})\" )"
   ]
  },
  {
   "cell_type": "code",
   "execution_count": null,
   "metadata": {},
   "outputs": [],
   "source": []
  }
 ],
 "metadata": {
  "kernelspec": {
   "display_name": "Python 3",
   "language": "python",
   "name": "python3"
  },
  "language_info": {
   "codemirror_mode": {
    "name": "ipython",
    "version": 3
   },
   "file_extension": ".py",
   "mimetype": "text/x-python",
   "name": "python",
   "nbconvert_exporter": "python",
   "pygments_lexer": "ipython3",
   "version": "3.7.5"
  }
 },
 "nbformat": 4,
 "nbformat_minor": 2
}
